{
 "cells": [
  {
   "cell_type": "code",
   "execution_count": null,
   "metadata": {},
   "outputs": [],
   "source": [
    "inp_dir = \"/home/mrassat/STAGE/images_toulouse/crop_toulouse_2/outresults_plugin_saveinput\"\n",
    "\n",
    "config = {\n",
    "\n",
    "    \"input\": {\n",
    "        \"dsm\": f\"{inp_dir}/dsm.tif\",\n",
    "        \"clr\": f\"{inp_dir}/clr.tif\",\n",
    "        \"classif\": f\"{inp_dir}/classif.tif\",\n",
    "        \"dtm_mesh\": f\"{inp_dir}/one_two/out_plugin_mesh/dtm_mesh.obj\",\n",
    "        \"dtm_mesh_epsg\": 4978\n",
    "    },\n",
    "\n",
    "    \"parameters\": {\n",
    "        \"seuil_ndvi\": 0.55,\n",
    "        \"seuil_ndwi\": -0.4\n",
    "    },\n",
    "\n",
    "    \"output\": {\n",
    "        \"out_path\": f\"{inp_dir}/one_two/out_plugin_mesh/\",\n",
    "    }\n",
    "    \n",
    "}"
   ]
  },
  {
   "cell_type": "code",
   "execution_count": null,
   "metadata": {},
   "outputs": [],
   "source": [
    "import rasterio as rio\n",
    "from rasterio.plot import reshape_as_raster\n",
    "import numpy as np\n",
    "import scipy\n",
    "import matplotlib.pyplot as plt"
   ]
  },
  {
   "cell_type": "code",
   "execution_count": null,
   "metadata": {},
   "outputs": [],
   "source": [
    "\n",
    "def compute_ndvi(nir, red):\n",
    "    return ( nir - red ) / ( nir + red + 0.0001 )\n",
    "\n",
    "def compute_ndwi(nir, green):\n",
    "    return ( nir - green ) / ( nir + green + 0.0001 )\n",
    "\n",
    "def seuil_image(data, seuil, over=True):\n",
    "    data_int = np.zeros( data.shape + (1,), dtype=np.uint8 )\n",
    "    if over:\n",
    "        data_int[data > seuil] = 255\n",
    "    else:\n",
    "        data_int[data < seuil] = 255\n",
    "    return data_int\n",
    "\n",
    "def to_rgba(data):\n",
    "\n",
    "    return np.concatenate((\n",
    "        data,\n",
    "        data,\n",
    "        data,\n",
    "        data,\n",
    "    ), axis = -1).astype(int) * 255\n"
   ]
  },
  {
   "cell_type": "code",
   "execution_count": null,
   "metadata": {},
   "outputs": [],
   "source": [
    "\n",
    "with rio.open(config[\"input\"][\"clr\"]) as inp:\n",
    "    data = inp.read()\n",
    "\n",
    "print(data.shape)\n"
   ]
  },
  {
   "cell_type": "code",
   "execution_count": null,
   "metadata": {},
   "outputs": [],
   "source": [
    "\n",
    "ndvi = seuil_image( \n",
    "    compute_ndvi( data[3], data[0] ), config[\"parameters\"][\"seuil_ndvi\"], True\n",
    ")\n",
    "ndvi = scipy.ndimage.binary_closing( ndvi[:,:,0], iterations=8 )\n",
    "ndvi = scipy.ndimage.binary_opening( ndvi, iterations=5 )\n",
    "ndvi = to_rgba( ndvi[:,:,np.newaxis] )\n",
    "\n",
    "ndwi = seuil_image(\n",
    "    compute_ndwi( data[3], data[1] ), config[\"parameters\"][\"seuil_ndwi\"], False\n",
    ")\n",
    "ndwi = scipy.ndimage.binary_closing( ndwi[:,:,0], iterations=8 )\n",
    "ndwi = scipy.ndimage.binary_opening( ndwi, iterations=5 )\n",
    "ndwi = to_rgba( ndwi[:,:,np.newaxis] )"
   ]
  },
  {
   "cell_type": "code",
   "execution_count": null,
   "metadata": {},
   "outputs": [],
   "source": [
    "\n",
    "with rio.open(\n",
    "    \"./vegetation_classif.png\",\n",
    "    \"w\",\n",
    "    driver=\"PNG\",\n",
    "    height=ndvi.shape[0],\n",
    "    width=ndvi.shape[1],\n",
    "    count=4,\n",
    "    dtype=\"uint8\",\n",
    "    nodata=None\n",
    ") as out:\n",
    "    out.write( reshape_as_raster( ndvi ) )\n",
    "    \n",
    "with rio.open(\n",
    "    \"./water_classif.png\",\n",
    "    \"w\",\n",
    "    driver=\"PNG\",\n",
    "    height=ndwi.shape[0],\n",
    "    width=ndwi.shape[1],\n",
    "    count=4,\n",
    "    dtype=\"uint8\",\n",
    "    nodata=None\n",
    ") as out:\n",
    "    out.write( reshape_as_raster( ndwi ) )"
   ]
  }
 ],
 "metadata": {
  "kernelspec": {
   "display_name": "venv",
   "language": "python",
   "name": "python3"
  },
  "language_info": {
   "codemirror_mode": {
    "name": "ipython",
    "version": 3
   },
   "file_extension": ".py",
   "mimetype": "text/x-python",
   "name": "python",
   "nbconvert_exporter": "python",
   "pygments_lexer": "ipython3",
   "version": "3.10.12"
  }
 },
 "nbformat": 4,
 "nbformat_minor": 2
}
